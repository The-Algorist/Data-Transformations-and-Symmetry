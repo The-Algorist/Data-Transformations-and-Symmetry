{
  "nbformat": 4,
  "nbformat_minor": 0,
  "metadata": {
    "colab": {
      "private_outputs": true,
      "provenance": [],
      "authorship_tag": "ABX9TyOXmb6VIUTerqaV9gXb1ydj",
      "include_colab_link": true
    },
    "kernelspec": {
      "name": "ir",
      "display_name": "R"
    },
    "language_info": {
      "name": "R"
    }
  },
  "cells": [
    {
      "cell_type": "markdown",
      "metadata": {
        "id": "view-in-github",
        "colab_type": "text"
      },
      "source": [
        "<a href=\"https://colab.research.google.com/github/The-Algorist/Data-Transformations-and-Symmetry/blob/main/R.ipynb\" target=\"_parent\"><img src=\"https://colab.research.google.com/assets/colab-badge.svg\" alt=\"Open In Colab\"/></a>"
      ]
    },
    {
      "cell_type": "markdown",
      "source": [
        "**Importing the necessary Libraries**"
      ],
      "metadata": {
        "id": "wsOr3iSSBrzU"
      }
    },
    {
      "cell_type": "code",
      "source": [
        "# Install required packages\n",
        "install.packages(\"remotes\") # Ensure remotes is installed\n",
        "remotes::install_github(\"bayesball/LearnEDAfunctions\")"
      ],
      "metadata": {
        "id": "ROZ4Rza86341"
      },
      "execution_count": null,
      "outputs": []
    },
    {
      "cell_type": "code",
      "source": [
        "install.packages(\"aplpack\")\n"
      ],
      "metadata": {
        "id": "jRQ-mIaa8HTA"
      },
      "execution_count": null,
      "outputs": []
    },
    {
      "cell_type": "code",
      "source": [
        "# Load libraries\n",
        "library(dplyr)\n",
        "library(LearnEDAfunctions)  # Load LearnEDA package for the dataset and functions\n",
        "library(ggplot2)            # For visualizations\n",
        "library(aplpack)            # For stem.leaf plots"
      ],
      "metadata": {
        "id": "K0YViigV7P3_"
      },
      "execution_count": null,
      "outputs": []
    },
    {
      "cell_type": "markdown",
      "source": [
        "**Task 1**: Find a Transformation for Symmetry in the Lake Dataset\n",
        "The dataset \"lake\" includes the following variables:\n",
        "\n",
        "AREA: Area of lake in acres.\n",
        "DEPTH: Maximum depth of the lake in feet.\n",
        "PH: Acidity measurement.\n",
        "WSHED: Watershed area in square miles.\n",
        "HIONS: Concentration of hydrogen ions.\n",
        "\n",
        "\n",
        "For this task, the symmetry transformation is tested for two non-symmetric variables, AREA and HIONS\n",
        "\n",
        "**Steps:**\n",
        "\n",
        "- Inspect the data for skewness.\n",
        "- Apply transformations (like square root for right-skewed data or log for multiplicative data).\n",
        "- Use visual tools like symmetry plots to assess improvements."
      ],
      "metadata": {
        "id": "rAWQzPosB6jJ"
      }
    },
    {
      "cell_type": "code",
      "source": [
        "# Load the lake dataset from LearnEDA package\n",
        "data(\"lake\")"
      ],
      "metadata": {
        "id": "ZrXZrmyC8S4i"
      },
      "execution_count": null,
      "outputs": []
    },
    {
      "cell_type": "code",
      "source": [
        "# Display the first few rows of the dataset\n",
        "head(lake)"
      ],
      "metadata": {
        "id": "fYzB6ioy8XnK"
      },
      "execution_count": null,
      "outputs": []
    },
    {
      "cell_type": "code",
      "source": [
        "# Summary statistics to inspect skewness and non-symmetry\n",
        "summary(lake)"
      ],
      "metadata": {
        "id": "k5Sk9NdS8bvt"
      },
      "execution_count": null,
      "outputs": []
    },
    {
      "cell_type": "code",
      "source": [
        "# Handling missing values\n",
        "colSums(is.na(lake))"
      ],
      "metadata": {
        "id": "uGQM0W_w8c6M"
      },
      "execution_count": null,
      "outputs": []
    },
    {
      "cell_type": "code",
      "source": [
        "# Visualize with boxplot to spot outliers\n",
        "boxplot(lake$Area, main = \"Area\")\n",
        "boxplot(lake$Depth, main = \"Depth\")\n",
        "boxplot(lake$PH, main = \"PH\")\n",
        "boxplot(lake$Wshed, main = \"Wshed\")\n",
        "boxplot(lake$Hions, main = \"Hions\")"
      ],
      "metadata": {
        "id": "_HA3vOLO87op"
      },
      "execution_count": null,
      "outputs": []
    },
    {
      "cell_type": "code",
      "source": [
        "# Convert specified columns to numeric\n",
        "lake$Area <- as.numeric(lake$Area)\n",
        "lake$Depth <- as.numeric(lake$Depth)\n",
        "lake$PH <- as.numeric(lake$PH)\n",
        "lake$Wshed <- as.numeric(lake$Wshed)\n",
        "lake$Hions <- as.numeric(lake$Hions)"
      ],
      "metadata": {
        "id": "FtbMmvfb9UER"
      },
      "execution_count": null,
      "outputs": []
    },
    {
      "cell_type": "code",
      "source": [
        "# Check if the columns have been converted successfully\n",
        "str(lake)"
      ],
      "metadata": {
        "id": "BlMsqu309ZwZ"
      },
      "execution_count": null,
      "outputs": []
    },
    {
      "cell_type": "code",
      "source": [
        "# Check if the columns have been converted successfully\n",
        "str(lake)\n",
        "\n",
        "# Symmetry plot for AREA (Lake area in acres)\n",
        "symplot(lake$Area)\n",
        "\n",
        "# Symmetry plot for DEPTH (Lake depth in feet)\n",
        "symplot(lake$Depth)\n",
        "\n",
        "# Symmetry plot for pH (Acidity)\n",
        "symplot(lake$PH)\n",
        "\n",
        "# Symmetry plot for Watershed area (WSHED)\n",
        "symplot(lake$Wshed)\n",
        "\n",
        "# Symmetry plot for Hydrogen ion concentration (HIONS)\n",
        "symplot(lake$Hions)"
      ],
      "metadata": {
        "id": "Z2S_N23m9f66"
      },
      "execution_count": null,
      "outputs": []
    },
    {
      "cell_type": "code",
      "source": [
        "# Apply square root transformation for AREA (as it's likely right-skewed)\n",
        "area_transformed <- sqrt(lake$Area)"
      ],
      "metadata": {
        "id": "otpSYzEk9lf1"
      },
      "execution_count": null,
      "outputs": []
    },
    {
      "cell_type": "code",
      "source": [
        "# Apply log transformation for HIONS (as it's likely right-skewed and multiplicative)\n",
        "hions_transformed <- log(lake$Hions)"
      ],
      "metadata": {
        "id": "0tLDPFZJ-UPc"
      },
      "execution_count": null,
      "outputs": []
    },
    {
      "cell_type": "code",
      "source": [
        "# Check symmetry of the transformed variables\n",
        "symplot(area_transformed)\n",
        "symplot(hions_transformed)"
      ],
      "metadata": {
        "id": "jqcVb5HC-VjC"
      },
      "execution_count": null,
      "outputs": []
    },
    {
      "cell_type": "markdown",
      "source": [
        "**Task 2:** Transformations for Two Additional Datasets\n",
        "Two additional datasets need to be analyzed to find a suitable transformation for symmetry. Based on the documents, the \"mortality rates\" and \"farms\" datasets are provided in the LearnEDA package, and the following approach is used:\n",
        "\n",
        "**Mortality Rates Dataset** (skewed to the right, making log transformation suitable):\n",
        "Use a log transformation to make the data more symmetric.\n",
        "Plot symmetry before and after transformation.\n",
        "**Farms Dataset** (skewed with both left and right tails):\n",
        "A square root or log transformation is tested to reduce skewness."
      ],
      "metadata": {
        "id": "abAldq64Cgqr"
      }
    },
    {
      "cell_type": "code",
      "source": [
        "# Use built-in dataset\n",
        "data(mtcars)"
      ],
      "metadata": {
        "id": "jm0m8lRd-Yng"
      },
      "execution_count": null,
      "outputs": []
    },
    {
      "cell_type": "code",
      "source": [
        "# Display the first few rows of the dataset\n",
        "head(mtcars)"
      ],
      "metadata": {
        "id": "vXmqH9gQ_HX7"
      },
      "execution_count": null,
      "outputs": []
    },
    {
      "cell_type": "code",
      "source": [
        "# Summary statistics to inspect skewness and non-symmetry\n",
        "summary(mtcars)"
      ],
      "metadata": {
        "id": "-ohEfQSo_Kvv"
      },
      "execution_count": null,
      "outputs": []
    },
    {
      "cell_type": "code",
      "source": [
        "# Check symmetry for Weight (wt) and Horsepower (hp) in the mtcars dataset\n",
        "ggplot(mtcars, aes(x = wt)) +\n",
        "  geom_histogram(bins = 10, fill = \"blue\", alpha = 0.5) +\n",
        "  labs(title = \"Histogram of Weight\")\n",
        "\n",
        "ggplot(mtcars, aes(sample = wt)) +\n",
        "  stat_qq() +\n",
        "  stat_qq_line() +\n",
        "  labs(title = \"Q-Q Plot for Weight\")\n",
        "\n",
        "ggplot(mtcars, aes(x = hp)) +\n",
        "  geom_histogram(bins = 10, fill = \"red\", alpha = 0.5) +\n",
        "  labs(title = \"Histogram of Horsepower\")\n",
        "\n",
        "ggplot(mtcars, aes(sample = hp)) +\n",
        "  stat_qq() +\n",
        "  stat_qq_line() +\n",
        "  labs(title = \"Q-Q Plot for Horsepower\")"
      ],
      "metadata": {
        "id": "Uro1_X0r_NaN"
      },
      "execution_count": null,
      "outputs": []
    },
    {
      "cell_type": "code",
      "source": [
        "# Apply log transformation for weight\n",
        "wt_log <- log(mtcars$wt)\n"
      ],
      "metadata": {
        "id": "vwWil8Ux_WB7"
      },
      "execution_count": null,
      "outputs": []
    },
    {
      "cell_type": "code",
      "source": [
        "# Apply square root transformation for horsepower\n",
        "hp_sqrt <- sqrt(mtcars$hp)"
      ],
      "metadata": {
        "id": "JlP18T4-_ZSP"
      },
      "execution_count": null,
      "outputs": []
    },
    {
      "cell_type": "code",
      "source": [
        "# Visualize the transformed variables\n",
        "ggplot(data.frame(wt_log), aes(x = wt_log)) +\n",
        "  geom_histogram(bins = 10, fill = \"blue\", alpha = 0.5) +\n",
        "  labs(title = \"Log-transformed Weight\")\n",
        "\n",
        "ggplot(data.frame(hp_sqrt), aes(x = hp_sqrt)) +\n",
        "  geom_histogram(bins = 10, fill = \"red\", alpha = 0.5) +\n",
        "  labs(title = \"Square-root Transformed Horsepower\")"
      ],
      "metadata": {
        "id": "sd6iM9g5_cOx"
      },
      "execution_count": null,
      "outputs": []
    },
    {
      "cell_type": "code",
      "source": [
        "# Q-Q plot for transformed weight\n",
        "ggplot(data.frame(wt_log), aes(sample = wt_log)) +\n",
        "  stat_qq() +\n",
        "  stat_qq_line() +\n",
        "  labs(title = \"Q-Q Plot for Log-transformed Weight\")\n",
        "\n",
        "# Q-Q plot for transformed horsepower\n",
        "ggplot(data.frame(hp_sqrt), aes(sample = hp_sqrt)) +\n",
        "  stat_qq() +\n",
        "  stat_qq_line() +\n",
        "  labs(title = \"Q-Q Plot for Square-root Transformed Horsepower\")"
      ],
      "metadata": {
        "id": "xiLxCNRS_gMv"
      },
      "execution_count": null,
      "outputs": []
    },
    {
      "cell_type": "code",
      "source": [
        "# Summary of original and transformed variables\n",
        "summary(mtcars$wt)\n",
        "summary(wt_log)\n",
        "\n",
        "summary(mtcars$hp)\n",
        "summary(hp_sqrt)"
      ],
      "metadata": {
        "id": "lMMLTFXF_kNk"
      },
      "execution_count": null,
      "outputs": []
    },
    {
      "cell_type": "code",
      "source": [
        "# Check symmetry for Petal Length in iris dataset\n",
        "ggplot(iris, aes(x = Petal.Length)) +\n",
        "  geom_histogram(bins = 10, fill = \"green\", alpha = 0.5) +\n",
        "  labs(title = \"Histogram of Petal Length\")\n",
        "\n",
        "# Apply log transformation for Petal Length\n",
        "petal_log <- log(iris$Petal.Length)\n",
        "\n",
        "# Check symmetry post-transformation\n",
        "ggplot(data.frame(petal_log), aes(x = petal_log)) +\n",
        "  geom_histogram(bins = 10, fill = \"green\", alpha = 0.5) +\n",
        "  labs(title = \"Log-transformed Petal Length\")"
      ],
      "metadata": {
        "id": "ASrWErYE_nqM"
      },
      "execution_count": null,
      "outputs": []
    },
    {
      "cell_type": "markdown",
      "source": [
        "**Using Hinkley's Method**"
      ],
      "metadata": {
        "id": "8_wmkZJBFAjm"
      }
    },
    {
      "cell_type": "markdown",
      "source": [
        "What is Hinkley's Method?\n",
        "Hinkley suggested a simple measure to quantify the skewness of a dataset:\n",
        "\n",
        "d = (mean - median) / scale, where the scale is often taken as the fourth-spread (i.e., the difference between the upper and lower fourths).\n",
        "Positive d indicates right-skewness (mean > median).\n",
        "Negative d indicates left-skewness (mean < median).\n",
        "d ≈ 0 suggests approximate symmetry.\n",
        "By comparing the value of d before and after a transformation, we can assess whether the transformation successfully reduced the asymmetry."
      ],
      "metadata": {
        "id": "VOwI7dHtFIN5"
      }
    },
    {
      "cell_type": "markdown",
      "source": [
        "**Using Hinkley's Method: **\n",
        "\n",
        "**Inspect Skewness Using Hinkley's Method:**\n",
        "Before applying any transformation, calculate Hinkley's statistic to determine whether the data is skewed.\n",
        "\n",
        "**Apply Transformations:**\n",
        "Based on the sign and magnitude of d, apply an appropriate transformation (log, square root, reciprocal, etc.).\n",
        "\n",
        "**Recalculate Hinkley's Statistic:**\n",
        "After the transformation, recalculate d to check if the transformation has improved the symmetry of the dataset.\n",
        "\n",
        "**Choose the Best Transformation:**\n",
        "The goal is to bring d as close to zero as possible, indicating reduced skewness and better symmetry."
      ],
      "metadata": {
        "id": "FJFkK63LFTXw"
      }
    },
    {
      "cell_type": "markdown",
      "source": [
        "**1. Initial Hinkley’s Statistic Calculation**\n",
        "\n",
        "Before applying transformations, calculate Hinkley’s d for the raw data."
      ],
      "metadata": {
        "id": "T5tj25vRFtpb"
      }
    },
    {
      "cell_type": "code",
      "source": [
        "# Load necessary libraries and dataset\n",
        "library(LearnEDAfunctions)\n",
        "\n",
        "# Define Hinkley's method function\n",
        "hinkley <- function(x) {\n",
        "  mean_x <- mean(x)\n",
        "  median_x <- median(x)\n",
        "  spread_x <- IQR(x)  # Interquartile range as the scale (or fourth-spread)\n",
        "  d <- (mean_x - median_x) / spread_x\n",
        "  return(d)\n",
        "}\n",
        "\n",
        "# Initial Hinkley's d for Area and Hions\n",
        "d_area <- hinkley(lake$Area)\n",
        "d_hions <- hinkley(lake$Hions)\n",
        "\n",
        "cat(\"Hinkley's d for Area (before transformation):\", d_area, \"\\n\")\n",
        "cat(\"Hinkley's d for Hions (before transformation):\", d_hions, \"\\n\")\n"
      ],
      "metadata": {
        "id": "gqMJejMTFAAV"
      },
      "execution_count": null,
      "outputs": []
    },
    {
      "cell_type": "markdown",
      "source": [
        "**2. Apply Transformations Based on Initial d**\n",
        "\n",
        "If d is positive (right-skewed), use log or square root transformations. If it is negative (left-skewed), consider square or higher power transformations."
      ],
      "metadata": {
        "id": "t9nEfXLlF44c"
      }
    },
    {
      "cell_type": "code",
      "source": [
        "# Apply square root transformation for Area (likely right-skewed)\n",
        "lake$Area_transformed <- sqrt(lake$Area)\n",
        "\n",
        "# Apply log transformation for HIONS (likely right-skewed)\n",
        "lake$Hions_transformed <- log(lake$Hions)\n",
        "\n",
        "# Recalculate Hinkley's d after transformations\n",
        "d_area_transformed <- hinkley(lake$Area_transformed)\n",
        "d_hions_transformed <- hinkley(lake$Hions_transformed)\n",
        "\n",
        "cat(\"Hinkley's d for Area (after transformation):\", d_area_transformed, \"\\n\")\n",
        "cat(\"Hinkley's d for Hions (after transformation):\", d_hions_transformed, \"\\n\")\n"
      ],
      "metadata": {
        "id": "DMdyzHLbF1ZB"
      },
      "execution_count": null,
      "outputs": []
    },
    {
      "cell_type": "markdown",
      "source": [
        "**3. Visualizing Before and After**\n",
        "\n",
        "To help visualize the effectiveness of the transformations, use histograms, symmetry plots, and Hinkley’s statistic to demonstrate the improvement:"
      ],
      "metadata": {
        "id": "PNL7_Q0lGKt_"
      }
    },
    {
      "cell_type": "code",
      "source": [
        "# Visualize histograms before and after transformations\n",
        "ggplot(lake, aes(x=Area)) + geom_histogram(bins=10, fill=\"blue\", alpha=0.7) + ggtitle(\"Area: Before Transformation\")\n",
        "ggplot(data.frame(lake$Area_transformed), aes(x=lake.Area_transformed)) + geom_histogram(bins=10, fill=\"blue\", alpha=0.7) + ggtitle(\"Area: After Transformation\")\n",
        "\n"
      ],
      "metadata": {
        "id": "RpmEMPBNGKB4"
      },
      "execution_count": null,
      "outputs": []
    },
    {
      "cell_type": "code",
      "source": [
        "ggplot(lake, aes(x=Hions)) + geom_histogram(bins=10, fill=\"green\", alpha=0.7) + ggtitle(\"Hions: Before Transformation\")\n",
        "ggplot(data.frame(lake$Hions_transformed), aes(x=lake.Hions_transformed)) + geom_histogram(bins=10, fill=\"green\", alpha=0.7) + ggtitle(\"Hions: After Transformation\")\n"
      ],
      "metadata": {
        "id": "nbcX4ANcGiUl"
      },
      "execution_count": null,
      "outputs": []
    }
  ]
}